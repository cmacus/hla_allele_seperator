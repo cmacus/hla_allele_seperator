{
  "nbformat": 4,
  "nbformat_minor": 0,
  "metadata": {
    "colab": {
      "name": "hla_allele_splitter.ipynb",
      "provenance": []
    },
    "kernelspec": {
      "name": "python3",
      "display_name": "Python 3"
    },
    "language_info": {
      "name": "python"
    }
  },
  "cells": [
    {
      "cell_type": "markdown",
      "metadata": {
        "id": "PWCy-fRyXL74"
      },
      "source": [
        "# HLA Allele splitter\n",
        "\n",
        "## Upload data file\n",
        "\n",
        "The file must be called dat.csv in specified format"
      ]
    },
    {
      "cell_type": "code",
      "metadata": {
        "colab": {
          "resources": {
            "http://localhost:8080/nbextensions/google.colab/files.js": {
              "data": "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",
              "ok": true,
              "headers": [
                [
                  "content-type",
                  "application/javascript"
                ]
              ],
              "status": 200,
              "status_text": ""
            }
          },
          "base_uri": "https://localhost:8080/",
          "height": 72
        },
        "id": "0g7cscWsXqFO",
        "outputId": "864cd311-ab08-42bb-a17a-ab578fdaaa31"
      },
      "source": [
        "from google.colab import files\n",
        "uploaded = files.upload()"
      ],
      "execution_count": 36,
      "outputs": [
        {
          "output_type": "display_data",
          "data": {
            "text/html": [
              "\n",
              "     <input type=\"file\" id=\"files-40e94b05-b43b-4834-ae8c-d21d62000063\" name=\"files[]\" multiple disabled\n",
              "        style=\"border:none\" />\n",
              "     <output id=\"result-40e94b05-b43b-4834-ae8c-d21d62000063\">\n",
              "      Upload widget is only available when the cell has been executed in the\n",
              "      current browser session. Please rerun this cell to enable.\n",
              "      </output>\n",
              "      <script src=\"/nbextensions/google.colab/files.js\"></script> "
            ],
            "text/plain": [
              "<IPython.core.display.HTML object>"
            ]
          },
          "metadata": {}
        },
        {
          "output_type": "stream",
          "name": "stdout",
          "text": [
            "Saving dat.csv to dat (1).csv\n"
          ]
        }
      ]
    },
    {
      "cell_type": "code",
      "metadata": {
        "id": "XH2oo2crbY7z"
      },
      "source": [
        "import pandas as pd\n",
        "import itertools\n",
        "import matplotlib.pyplot as plt\n",
        "from collections import Counter\n",
        "plt.style.use('seaborn')"
      ],
      "execution_count": 91,
      "outputs": []
    },
    {
      "cell_type": "markdown",
      "metadata": {
        "id": "K514HgiqYtKP"
      },
      "source": [
        "## Helper functions"
      ]
    },
    {
      "cell_type": "code",
      "metadata": {
        "id": "mT56umq1XJa-"
      },
      "source": [
        "def flatten(t):\n",
        "    return [item for sublist in t for item in sublist]\n",
        "\n",
        "def get_possible_haplotypes(R,loci): # Isolate possible haplotypes from a genotype\n",
        "\thaps = []\n",
        "\tif loci == ['A_1','A_2','B_1','B_2']: # AB only\n",
        "\t\tfor i in loci:\n",
        "\t\t\tfor j in loci:\n",
        "\t\t\t\tif i != j:\n",
        "\t\t\t\t\tif i[0]=='A' and j[0]=='B':\n",
        "\t\t\t\t\t\thaps.append([R[i],R[j]])\n",
        "\telif loci == ['A_1','A_2','B_1','B_2','C_1','C_2']: #ABC only\n",
        "\t\tfor i in loci:\n",
        "\t\t\tfor j in loci:\n",
        "\t\t\t\tfor k in loci:\n",
        "\t\t\t\t\tif i != j and j!= k:\n",
        "\t\t\t\t\t\tif i[0]=='A' and j[0]=='B' and k[0]=='C':\n",
        "\t\t\t\t\t\t\thaps.append([R[i],R[j],R[k]])\n",
        "\telif loci == ['A_1','A_2','B_1','B_2','C_1','C_2','DRB1_1','DRB1_2']: #ABCDR only\n",
        "\t\tfor i in loci:\n",
        "\t\t\tfor j in loci:\n",
        "\t\t\t\tfor k in loci:\n",
        "\t\t\t\t  for l in loci:\n",
        "\t\t\t\t\t  if i != j and j!=k and k!=l:\n",
        "\t\t\t\t\t\t  if i[0]=='A' and j[0]=='B' and k[0]=='C' and l[0:2] == 'DR':\n",
        "\t\t\t\t\t\t\t  haps.append([R[i],R[j],R[k],R[l]])\n",
        "\telif loci == ['A_1','A_2','B_1','B_2','DRB1_1','DRB1_2']: #ABCDR only\n",
        "\t\tfor i in loci:\n",
        "\t\t\tfor j in loci:\n",
        "\t\t\t\tfor k in loci:\n",
        "\t\t\t\t\t  if i != j and j!=k:\n",
        "\t\t\t\t\t\t  if i[0]=='A' and j[0]=='B' and k[0:2]=='DR':\n",
        "\t\t\t\t\t\t\t  haps.append([R[i],R[j],R[k]])\n",
        "\treturn haps\n",
        "\n",
        "def get_haplotype_of_child_from_parent(M,F,P,loci):\n",
        "\tM_p = get_possible_haplotypes(M,loci)\n",
        "\tF_p = get_possible_haplotypes(F,loci)\n",
        "\tP_p = get_possible_haplotypes(P,loci)\n",
        "\n",
        "\tmatch_M = []\n",
        "\tmatch_F = []\n",
        "\tfor c in P_p:\n",
        "\t\tif c in M_p:\n",
        "\t\t\tprint(\"%s matches with mother\" % c)\n",
        "\t\t\tmatch_M.append(c)\n",
        "\t\tif c in F_p:\n",
        "\t\t\tprint(\"%s matches with father\" % c)\n",
        "\t\t\tmatch_F.append(c)\n",
        "\tmatch_M = set(tuple(x) for x in match_M)\n",
        "\tmatch_F = set(tuple(x) for x in match_F)\n",
        "\treturn list(match_M),list(match_F)\n",
        "\n",
        "def get_haplotype_from_two_children(P1,P2,loci):\n",
        "\tP1_p = get_possible_haplotypes(P1,loci)\t\n",
        "\tP2_p = get_possible_haplotypes(P2,loci)\n",
        "\tmatch = []\n",
        "\tfor c in P1_p:\n",
        "\t\tif c in P2_p:\n",
        "\t\t\tprint(\"%s matches with sibling\" % c)\n",
        "\t\t\tmatch.append(c)\n",
        "\tmatch = set(tuple(x) for x in match)\n",
        "\treturn(list(match))"
      ],
      "execution_count": 120,
      "outputs": []
    },
    {
      "cell_type": "markdown",
      "metadata": {
        "id": "potmzAPLXSz0"
      },
      "source": [
        "### Specify mode\n",
        "\n",
        "The mode could be 'AB', 'ABC', 'ABCDR', 'ABDR'. However, note that incomplete typing of any locus will be refused."
      ]
    },
    {
      "cell_type": "code",
      "metadata": {
        "id": "mcPY4qjrYyRY"
      },
      "source": [
        "mode = 'ABDR'"
      ],
      "execution_count": 110,
      "outputs": []
    },
    {
      "cell_type": "code",
      "metadata": {
        "id": "u9Vu84j1WmSy"
      },
      "source": [
        "if mode == 'AB':\n",
        "\tloci = ['A_1','A_2','B_1','B_2']\n",
        "elif mode == 'ABC':\n",
        "\tloci = ['A_1','A_2','B_1','B_2','C_1','C_2']\n",
        "elif mode == 'ABCDR':\n",
        "\tloci = ['A_1','A_2','B_1','B_2','C_1','C_2','DRB1_1','DRB1_2']\n",
        "elif mode == 'ABDR':\n",
        "  loci = ['A_1','A_2','B_1','B_2','DRB1_1','DRB1_2']\n",
        "def analyse_allele(df):\n",
        "\tdf.dropna(axis=1,inplace=True)\n",
        "\tprint(df)\n",
        "\tprint(\"Comparing with parents and children first\")\n",
        "\tchildren = df[df['Name'].str.startswith('P')]\n",
        "\tmother_matches = []\n",
        "\tfather_matches = []\n",
        "\tsibling_matches = []\n",
        "\tfor i in range(len(children)):\n",
        "\t\tprint(\"Comparing child %s\" % (i+1))\n",
        "\t\tmm,fm = get_haplotype_of_child_from_parent(df.loc[0],df.loc[1],children.iloc[i],loci)\n",
        "\t\tmother_matches.append(mm)\n",
        "\t\tfather_matches.append(fm)\n",
        "\t\tprint(\"Possible haplotype from mother %s\" % mm) \n",
        "\t\tprint(\"Possible haplotype from father %s\" % fm) \n",
        "\tprint(\"Comparing between siblings\")\n",
        "\tfor i in range(len(children)-1):\n",
        "\t\tfor j in range(len(children)-1):\n",
        "\t\t\tif i != j:\n",
        "\t\t\t\tprint(\"Comparing child %s and %s\" % (i,j))\n",
        "\t\t\t\tsibling_matches.append(get_haplotype_from_two_children(children.iloc[i],children.iloc[i+1],loci))\n",
        "\t\t\tprint(\"Possible haplotype %s\" % sibling_matches)\n",
        "\n",
        "\tprint(\"FINAL RESULTS\")\n",
        "\tprint(\"From mother %s \" % mother_matches)\n",
        "\tprint(\"From father %s \" % father_matches)\n",
        "\tprint(\"From siblings %s \" % sibling_matches)\n",
        "\tmm = [] \n",
        "\tfor m in mother_matches:\n",
        "\t  for el in m:\n",
        "\t    if type(el) is tuple:\n",
        "\t      mm.append(el)  \n",
        "\tfm = [] \n",
        "\tfor m in father_matches:\n",
        "\t  for el in m:\n",
        "\t    if type(el) is tuple:\n",
        "\t      fm.append(el)\n",
        "\tsm = [] \n",
        "\tfor m in sibling_matches:\n",
        "\t  for el in m:\n",
        "\t    if type(el) is tuple:\n",
        "\t      sm.append(el)\n",
        "\tmm = [str(x) for x in mm]\n",
        "\tfm = [str(x) for x in fm]\n",
        "\tsm = [str(x) for x in sm]\n",
        "\tc = Counter(mm+fm+sm)\n",
        "\tplt.figure(figsize=(10,5))\n",
        "\tplt.bar(c.keys(),c.values())\n",
        "\tplt.xticks(rotation=45,fontsize=15)\n",
        "\tplt.title('Distribution of haplotypes in family %s' % mode,fontsize=20)\n",
        " "
      ],
      "execution_count": 122,
      "outputs": []
    },
    {
      "cell_type": "code",
      "metadata": {
        "id": "WubLE7VSYI-G"
      },
      "source": [
        "import io\n",
        "df = pd.read_csv(io.BytesIO(uploaded['dat.csv']))"
      ],
      "execution_count": 40,
      "outputs": []
    },
    {
      "cell_type": "code",
      "metadata": {
        "colab": {
          "base_uri": "https://localhost:8080/",
          "height": 204
        },
        "id": "c7NRN4sncAt6",
        "outputId": "6a3e03b3-f3aa-4a4b-9637-6a0b5c0f9980"
      },
      "source": [
        "df"
      ],
      "execution_count": 41,
      "outputs": [
        {
          "output_type": "execute_result",
          "data": {
            "text/html": [
              "<div>\n",
              "<style scoped>\n",
              "    .dataframe tbody tr th:only-of-type {\n",
              "        vertical-align: middle;\n",
              "    }\n",
              "\n",
              "    .dataframe tbody tr th {\n",
              "        vertical-align: top;\n",
              "    }\n",
              "\n",
              "    .dataframe thead th {\n",
              "        text-align: right;\n",
              "    }\n",
              "</style>\n",
              "<table border=\"1\" class=\"dataframe\">\n",
              "  <thead>\n",
              "    <tr style=\"text-align: right;\">\n",
              "      <th></th>\n",
              "      <th>Name</th>\n",
              "      <th>A_1</th>\n",
              "      <th>A_2</th>\n",
              "      <th>B_1</th>\n",
              "      <th>B_2</th>\n",
              "      <th>C_1</th>\n",
              "      <th>C_2</th>\n",
              "      <th>DRB1_1</th>\n",
              "      <th>DRB1_2</th>\n",
              "      <th>DQB1_1</th>\n",
              "      <th>DQB1_2</th>\n",
              "      <th>DPB1_1</th>\n",
              "      <th>DPB1_2</th>\n",
              "    </tr>\n",
              "  </thead>\n",
              "  <tbody>\n",
              "    <tr>\n",
              "      <th>0</th>\n",
              "      <td>M</td>\n",
              "      <td>1</td>\n",
              "      <td>68</td>\n",
              "      <td>44</td>\n",
              "      <td>15</td>\n",
              "      <td>1</td>\n",
              "      <td>3</td>\n",
              "      <td>15</td>\n",
              "      <td>7</td>\n",
              "      <td>NaN</td>\n",
              "      <td>NaN</td>\n",
              "      <td>NaN</td>\n",
              "      <td>NaN</td>\n",
              "    </tr>\n",
              "    <tr>\n",
              "      <th>1</th>\n",
              "      <td>F</td>\n",
              "      <td>24</td>\n",
              "      <td>11</td>\n",
              "      <td>27</td>\n",
              "      <td>52</td>\n",
              "      <td>2</td>\n",
              "      <td>3</td>\n",
              "      <td>5</td>\n",
              "      <td>15</td>\n",
              "      <td>NaN</td>\n",
              "      <td>NaN</td>\n",
              "      <td>NaN</td>\n",
              "      <td>NaN</td>\n",
              "    </tr>\n",
              "    <tr>\n",
              "      <th>2</th>\n",
              "      <td>P1</td>\n",
              "      <td>24</td>\n",
              "      <td>68</td>\n",
              "      <td>27</td>\n",
              "      <td>44</td>\n",
              "      <td>1</td>\n",
              "      <td>2</td>\n",
              "      <td>5</td>\n",
              "      <td>15</td>\n",
              "      <td>NaN</td>\n",
              "      <td>NaN</td>\n",
              "      <td>NaN</td>\n",
              "      <td>NaN</td>\n",
              "    </tr>\n",
              "    <tr>\n",
              "      <th>3</th>\n",
              "      <td>P2</td>\n",
              "      <td>1</td>\n",
              "      <td>24</td>\n",
              "      <td>15</td>\n",
              "      <td>27</td>\n",
              "      <td>1</td>\n",
              "      <td>3</td>\n",
              "      <td>7</td>\n",
              "      <td>15</td>\n",
              "      <td>NaN</td>\n",
              "      <td>NaN</td>\n",
              "      <td>NaN</td>\n",
              "      <td>NaN</td>\n",
              "    </tr>\n",
              "    <tr>\n",
              "      <th>4</th>\n",
              "      <td>P3</td>\n",
              "      <td>1</td>\n",
              "      <td>11</td>\n",
              "      <td>15</td>\n",
              "      <td>52</td>\n",
              "      <td>3</td>\n",
              "      <td>4</td>\n",
              "      <td>5</td>\n",
              "      <td>15</td>\n",
              "      <td>NaN</td>\n",
              "      <td>NaN</td>\n",
              "      <td>NaN</td>\n",
              "      <td>NaN</td>\n",
              "    </tr>\n",
              "  </tbody>\n",
              "</table>\n",
              "</div>"
            ],
            "text/plain": [
              "  Name  A_1  A_2  B_1  B_2  C_1  ...  DRB1_1  DRB1_2  DQB1_1  DQB1_2  DPB1_1  DPB1_2\n",
              "0    M    1   68   44   15    1  ...      15       7     NaN     NaN     NaN     NaN\n",
              "1    F   24   11   27   52    2  ...       5      15     NaN     NaN     NaN     NaN\n",
              "2   P1   24   68   27   44    1  ...       5      15     NaN     NaN     NaN     NaN\n",
              "3   P2    1   24   15   27    1  ...       7      15     NaN     NaN     NaN     NaN\n",
              "4   P3    1   11   15   52    3  ...       5      15     NaN     NaN     NaN     NaN\n",
              "\n",
              "[5 rows x 13 columns]"
            ]
          },
          "metadata": {},
          "execution_count": 41
        }
      ]
    },
    {
      "cell_type": "code",
      "metadata": {
        "colab": {
          "base_uri": "https://localhost:8080/",
          "height": 1000
        },
        "id": "1WvFym0ZXgEq",
        "outputId": "5fd71f18-323a-4c3b-9bb9-87a112e2170a"
      },
      "source": [
        "analyse_allele(df)"
      ],
      "execution_count": 123,
      "outputs": [
        {
          "output_type": "stream",
          "name": "stdout",
          "text": [
            "  Name  A_1  A_2  B_1  B_2  C_1  C_2  DRB1_1  DRB1_2\n",
            "0    M    1   68   44   15    1    3      15       7\n",
            "1    F   24   11   27   52    2    3       5      15\n",
            "2   P1   24   68   27   44    1    2       5      15\n",
            "3   P2    1   24   15   27    1    3       7      15\n",
            "4   P3    1   11   15   52    3    4       5      15\n",
            "Comparing with parents and children first\n",
            "Comparing child 1\n",
            "[24, 27, 5] matches with father\n",
            "[24, 27, 15] matches with father\n",
            "[68, 44, 15] matches with mother\n",
            "Possible haplotype from mother [(68, 44, 15)]\n",
            "Possible haplotype from father [(24, 27, 5), (24, 27, 15)]\n",
            "Comparing child 2\n",
            "[1, 15, 7] matches with mother\n",
            "[1, 15, 15] matches with mother\n",
            "[24, 27, 15] matches with father\n",
            "Possible haplotype from mother [(1, 15, 15), (1, 15, 7)]\n",
            "Possible haplotype from father [(24, 27, 15)]\n",
            "Comparing child 3\n",
            "[1, 15, 15] matches with mother\n",
            "[11, 52, 5] matches with father\n",
            "[11, 52, 15] matches with father\n",
            "Possible haplotype from mother [(1, 15, 15)]\n",
            "Possible haplotype from father [(11, 52, 5), (11, 52, 15)]\n",
            "Comparing between siblings\n",
            "Possible haplotype []\n",
            "Comparing child 0 and 1\n",
            "[24, 27, 15] matches with sibling\n",
            "Possible haplotype [[(24, 27, 15)]]\n",
            "Comparing child 1 and 0\n",
            "[1, 15, 15] matches with sibling\n",
            "Possible haplotype [[(24, 27, 15)], [(1, 15, 15)]]\n",
            "Possible haplotype [[(24, 27, 15)], [(1, 15, 15)]]\n",
            "FINAL RESULTS\n",
            "From mother [[(68, 44, 15)], [(1, 15, 15), (1, 15, 7)], [(1, 15, 15)]] \n",
            "From father [[(24, 27, 5), (24, 27, 15)], [(24, 27, 15)], [(11, 52, 5), (11, 52, 15)]] \n",
            "From siblings [[(24, 27, 15)], [(1, 15, 15)]] \n"
          ]
        },
        {
          "output_type": "display_data",
          "data": {
            "image/png": "[encoded data removed]",
            "text/plain": [
              "<Figure size 720x360 with 1 Axes>"
            ]
          },
          "metadata": {}
        }
      ]
    },
    {
      "cell_type": "code",
      "metadata": {
        "id": "K5AaAQV9guB-"
      },
      "source": [
        ""
      ],
      "execution_count": null,
      "outputs": []
    }
  ]
}